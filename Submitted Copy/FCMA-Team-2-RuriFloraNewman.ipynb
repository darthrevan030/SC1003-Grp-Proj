{
 "cells": [
  {
   "cell_type": "markdown",
   "metadata": {
    "id": "OhsbOf5FU3wY"
   },
   "source": [
    "# 1. Loading up requirements.txt"
   ]
  },
  {
   "cell_type": "code",
   "execution_count": 1,
   "metadata": {
    "id": "WXhgsEmRU6Cy"
   },
   "outputs": [],
   "source": [
    "#installing all requirements:\n",
    "# !pip install -r requirements.txt\n",
    "\n",
    "import random\n",
    "import csv\n",
    "import matplotlib.pyplot as plt"
   ]
  },
  {
   "cell_type": "markdown",
   "metadata": {
    "id": "tKZUmoUIH9hY"
   },
   "source": [
    "#2. Algorithm Design\n"
   ]
  },
  {
   "cell_type": "markdown",
   "metadata": {},
   "source": [
    "![Usable_Data](assets/Decomposition_of_Making_CSV_Making_Data_Usable.png)"
   ]
  },
  {
   "cell_type": "markdown",
   "metadata": {},
   "source": [
    "   "
   ]
  },
  {
   "cell_type": "markdown",
   "metadata": {},
   "source": [
    "![Forming_Teams](assets/Decomposition_of_Forming_Teams.png)"
   ]
  },
  {
   "cell_type": "markdown",
   "metadata": {},
   "source": [
    "    "
   ]
  },
  {
   "cell_type": "markdown",
   "metadata": {},
   "source": [
    "![Making_CSV](assets/Decomposition_of_Making_CSV.png)"
   ]
  },
  {
   "cell_type": "markdown",
   "metadata": {},
   "source": [
    "# Planning & Designing the Algorithm with PseudoCodes\n",
    "\n",
    "// Start of pseudocode<br><br>\n",
    "\n",
    "// Define a list to store student records<br>\n",
    "Students = [] <br><br>\n",
    "\n",
    "// Read from 'records.csv' file<br>\n",
    "Open 'records.csv' file as File<br>\n",
    "Skip the first line in File  // Header line<br>\n",
    "For each Line in File<br>\n",
    "    Parse Line into appropriate student details<br>\n",
    "    Append student details to Students<br>\n",
    "Close File<br><br>\n",
    "\n",
    "// Define a function to calculate the average CGPA for a group of students<br>\n",
    "Function Calculate_Average_CGPA(Students)<br>\n",
    "    Calculate and return average CGPA of given Students<br><br>\n",
    "\n",
    "// Define a function to find a student who fits best in the current team based on CGPA<br>\n",
    "Function Find_Best_Fit_Student(Students, Target_CGPA, Current_Team)<br>\n",
    "    Find and return the student who best matches the CGPA criteria for balancing the team<br><br>\n",
    "\n",
    "// Define a function to score and select students for a team based on multiple criteria<br>\n",
    "Function Find_Best_Fit_Score(Students, Target_CGPA, Current_Team)<br>\n",
    "    Evaluate each Student for best fit based on CGPA, school diversity, and gender balance<br>\n",
    "    Return the student with the best score<br><br>\n",
    "\n",
    "// Define a function to form a single team<br>\n",
    "Function Form_Team(Students, Target_CGPA)<br>\n",
    "    Sort Students by CGPA<br>\n",
    "    Start building the Team with students having highest and lowest CGPA<br>\n",
    "    Fill remaining spots in Team by repeatedly finding the best scoring student<br>\n",
    "    Ensure Team meets gender balance and school diversity criteria<br>\n",
    "    Return Team<br><br>\n",
    "\n",
    "// Define a function to create teams for all students sorted by tutorial groups<br>\n",
    "Function Create_Teams(Students)<br>\n",
    "    Separate Students into groups<br>\n",
    "    For each group<br>\n",
    "        Continue forming teams until all students are assigned<br>\n",
    "    Return list of all teams<br><br>\n",
    "\n",
    "// Main process<br>\n",
    "Teams = Create_Teams(Students)<br>\n",
    "For each Team in Teams<br>\n",
    "    Print team details<br><br>\n",
    "\n",
    "// End of pseudocode<br>\n",
    "\n"
   ]
  },
  {
   "cell_type": "markdown",
   "metadata": {},
   "source": [
    "# Evaluating the Algorithm\n",
    "\n",
    "In order for our results to be meaningful, we realised that we needed to compare it to another algorithm. We decided to compare it with random sorting where the teams are randomly created. Below, we created the algorithm in order to randomly sort the teams.<br>\n",
    "\n",
    "We decided to use matplotlib to visualise the effectiveness of our algorithm. We plotted three distribution graphs, the distribution of mean team cgpa, the distribution of gender ratio, and lastly the distribution of unique groups in each team. We compared our algorithm with random sorting to show us how much better our algorithm is at diversifying our teams. In every aspect, our algorithm showed a significant improvement over random sorting.\n"
   ]
  },
  {
   "cell_type": "markdown",
   "metadata": {},
   "source": [
    "# Challenges and Issues:\n",
    "    Algorithm challenge - By Ruri:\n",
    "    \n",
    "Maintaining a 3:2 or 2:3 male-to-female ratio was particularly challenging, especially when the group composition needed to be balanced across multiple factors (CGPA & School as well)<br>\n",
    "Balancing the number of schools in each group became challenging, particularly when dealing with students who had similar backgrounds or when some schools had a smaller number of students<br>\n",
    "Solution Attempts:<br>\n",
    "First Approach: The initial algorithm aimed to include at least 3-4 schools per group, but without a swapping mechanism, some groups ended up with too many students from the same school.<br>\n",
    "Second Approach: The second approach used conditional swaps, trying to include at least three schools in each group. However, this approach didn’t always succeed when there were too few students from different schools available.<br>\n",
    "Final Approach: The final algorithm integrated dynamic school checks during each stage of group formation. The introduction of Nigel’s swapping method helped adjust for school diversity by swapping in students from underrepresented schools, thus ensuring each group met the diversity requirement.<br><br>\n",
    "\n",
    "    Algorithm challenges - Nigel:\n",
    "I attempted an approach incorporating round robin, where each student was tested with every  group and subsequently added to a group if that student was the best fit for that particular. However this approach was dependent on the initial students added to the group, which would skew subsequent grouping based on the group score.<br>\n",
    "Initial way of using the best fit CGPA to populate the groups initially was not ideal. I had to evaluate the best possible group by including all 3 factors.<br><br>\n",
    "\t\n",
    "    Creation of data structure - Sam:\n",
    "At first, I tried to create a nested list structure for the data, but I realised that would not be the most efficient as each Tutorial Group and Team and Student ID referred to multiple further lists. As such I ended up with a nested dictionary data structure with each of the higher tiers acting as the keys for the lower tier, allowing for an easy way to access the data at any tier by simply calling upon the tier above it<br>\n",
    "At first I tried to use a for loop to iterate over every item in each line in the CSV to build the initial data structure, but I quickly realised that it would be very inefficient as I would be essentially going over the full file once for each item in the line. As such, I condensed it to 1 iteration per line and passed the data in the line to the data structure line by line instead of item by item<br><br>\n",
    "\n",
    "    Visual representation using matplotlib - Jarrett:\n",
    "Initially decided on plotting how our model performed based on the three criteria as stated. However, I realised that without a basis of comparison the graph means nothing as we do not know how good or bad it performed.<br>\n",
    "Decided that using the easiest algorithm to implement (random sorting) as a baseline would give us insight on how much better our algorithm is compared to the worst case scenario.\n"
   ]
  },
  {
   "cell_type": "markdown",
   "metadata": {},
   "source": [
    "# <b>Our Solution"
   ]
  },
  {
   "cell_type": "markdown",
   "metadata": {
    "id": "kHsezw6nauSV"
   },
   "source": [
    "Read records.csv"
   ]
  },
  {
   "cell_type": "code",
   "execution_count": 2,
   "metadata": {},
   "outputs": [],
   "source": [
    "# parsing csv and loading student data\n",
    "students = []  # list to hold all students' records\n",
    "\n",
    "# read the csv file and store the student data in a list of dictionaries\n",
    "with open('records.csv', 'r') as file:\n",
    "    next(file)  # skip the header\n",
    "    for line in file:\n",
    "        # adjusting to the new column order: tutorial group, group, student id, school, name, gender, cgpa\n",
    "        tutorial_group, student_id, school, name, gender, cgpa = line.strip().split(',')  # segregating by lines\n",
    "        students.append({\n",
    "            'Tutorial Group': tutorial_group,\n",
    "            'Student ID': student_id,\n",
    "            'Name': name,\n",
    "            'School': school,\n",
    "            'Gender': gender,\n",
    "            'CGPA': float(cgpa),\n",
    "            'Assigned Team': None  # placeholder for team assignment\n",
    "        })"
   ]
  },
  {
   "cell_type": "markdown",
   "metadata": {
    "id": "QisJU8KTOvo3"
   },
   "source": [
    "Calculate Average CGPA"
   ]
  },
  {
   "cell_type": "markdown",
   "metadata": {
    "id": "QisJU8KTOvo3"
   },
   "source": [
    "![Average_CGPA_Flowchart](assets/Calculate_Average_CGPA_Flowchart.png)"
   ]
  },
  {
   "cell_type": "code",
   "execution_count": 3,
   "metadata": {
    "id": "E-dGtNtiOtE4"
   },
   "outputs": [],
   "source": [
    "# function to calculate the average cgpa for a group\n",
    "def calculate_average_cgpa(students):\n",
    "    total_cgpa = sum(student['CGPA'] for student in students)\n",
    "    return total_cgpa / len(students)\n"
   ]
  },
  {
   "cell_type": "markdown",
   "metadata": {
    "id": "OvEvw4JvRaN-"
   },
   "source": [
    "Introduce diversity score calculation to make appropriate swaps - nigel"
   ]
  },
  {
   "cell_type": "code",
   "execution_count": 4,
   "metadata": {
    "id": "fScPjq89Ra0W"
   },
   "outputs": [],
   "source": [
    "def score_calculation(cur_team,student_add, score_weightage,target_cgpa,verbose = False):  # Score calculation for each group, the lower the better ,  0 is ideal (not possible due to 3 female, 2 male )\n",
    "\n",
    "    #getting average amongst all students\n",
    "    sum_group_gpa = sum([student['CGPA'] for student in cur_team])\n",
    "    mean_gpa =  (sum_group_gpa + student_add['CGPA']) / (len(cur_team) + 1)\n",
    "\n",
    "    # calculate diversity for school count\n",
    "    student_schools = set(student['School'] for student in cur_team)   #Remove duplicate schools within the current team\n",
    "    if student_add['School'] not in student_schools:\n",
    "          student_schools.add(student_add['School'])   #\n",
    "\n",
    "    # calculate diversity for gender\n",
    "    # calculate gender_score for the student to be added\n",
    "    gender_inc = 0\n",
    "    if student_add['Gender'] == 'Male':\n",
    "        gender_inc += 1\n",
    "    else:\n",
    "      gender_inc -= 1\n",
    "\n",
    "  # calculate gender score for the rest of the team\n",
    "    for x in cur_team:\n",
    "        if x['Gender'] == 'Male':\n",
    "            gender_inc += 1\n",
    "        else:\n",
    "            gender_inc -= 1\n",
    "\n",
    "    #generate all 3 scores\n",
    "    gpa_diff = abs(mean_gpa - target_cgpa)\n",
    "\n",
    "    #(1 + gpa_diff) implemented so that as gpa_diff increases, this multiplier becomes larger, amplifying the impact of the CGPA difference on gpa_score\n",
    "    #ff the group’s mean CGPA is very close to the target, gpa_diff is small, and the impact of gpa_score is minimal\n",
    "    #if the group’s mean CGPA is far from the target, gpa_diff is larger, and this amplifies the weight of gpa_score\n",
    "    gpa_score = gpa_diff * (1 + gpa_diff) * score_weightage[0]  # dynamically weighted by deviation\n",
    "    school_score = abs((len(cur_team) + 1) - len(student_schools)) * score_weightage[1]\n",
    "    gender_diversity_score = abs(gender_inc) * score_weightage[2]\n",
    "\n",
    "\n",
    "    #give us a detailed output if the score has exceeded ideal (1)\n",
    "    if (gender_diversity_score + gpa_score + school_score > 2 and verbose):\n",
    "        print('The GPA: ',gpa_score)\n",
    "        print('The Gender: ',gender_diversity_score)\n",
    "        print('The School: ',school_score)\n",
    "        print(cur_team)\n",
    "\n",
    "\n",
    "    return gender_diversity_score + gpa_score + school_score\n",
    "\n",
    "\n"
   ]
  },
  {
   "cell_type": "markdown",
   "metadata": {
    "id": "sabwIwIeRrf3"
   },
   "source": [
    "Follow up with the slotting in the best fit student, based on results of our score calculator"
   ]
  },
  {
   "cell_type": "markdown",
   "metadata": {
    "id": "sabwIwIeRrf3"
   },
   "source": [
    "![Best_Fit_Score](assets/Flowchart_Best_Fit_Score.png)"
   ]
  },
  {
   "cell_type": "code",
   "execution_count": 5,
   "metadata": {
    "id": "a84HWnpxRrWH"
   },
   "outputs": [],
   "source": [
    "#function finding the \"best\" student to fit, based on our score calculator\n",
    "def find_best_fit_score(students,target_cgpa,cur_team):\n",
    "    best_fit = None\n",
    "    smallest_difference = float('inf')\n",
    "\n",
    "    for student in students:\n",
    "        # calculate score if student is added\n",
    "        cur_score =  score_calculation(cur_team, student, (1,1,1), target_cgpa)\n",
    "        # choose student with smallest score difference\n",
    "        if (cur_score < smallest_difference):\n",
    "            smallest_difference = cur_score\n",
    "            best_fit = student\n",
    "    return best_fit\n"
   ]
  },
  {
   "cell_type": "markdown",
   "metadata": {
    "id": "zaBTAMg5R7_3"
   },
   "source": [
    "Forming teams"
   ]
  },
  {
   "cell_type": "markdown",
   "metadata": {
    "id": "zaBTAMg5R7_3"
   },
   "source": [
    "![Forming_Teams_Flowchart](assets/Flowchart_Form_Teams.png)"
   ]
  },
  {
   "cell_type": "code",
   "execution_count": 6,
   "metadata": {
    "id": "KlT71swFR71X"
   },
   "outputs": [],
   "source": [
    "# function to form a single team\n",
    "def form_team(students, target_cgpa):\n",
    "    team = []\n",
    "\n",
    "    # step 1: selecting highest and lowest cgpa students\n",
    "    students.sort(key=lambda x: x['CGPA'])\n",
    "    lowest_cgpa_student = students[0]\n",
    "    highest_cgpa_student = students[-1]\n",
    "\n",
    "    # append selected students from the pool\n",
    "    team.append(lowest_cgpa_student)\n",
    "    team.append(highest_cgpa_student)\n",
    "\n",
    "    # remove selected students from the pool\n",
    "    students.remove(lowest_cgpa_student)\n",
    "    students.remove(highest_cgpa_student)\n",
    "\n",
    "    # current team's cgpa\n",
    "    current_team_cgpa = sum(student['CGPA'] for student in team)\n",
    "\n",
    "\n",
    "    # step 2: add students to the team using \"best fit\" method to balance cgpa\n",
    "\n",
    "    # The team currently has highest CGPA student and lowest CGPA student\n",
    "    while len(team) < 5:\n",
    "        best_fit_student = find_best_fit_score(students,target_cgpa, team)\n",
    "        team.append(best_fit_student) #append in the best fit student\n",
    "        students.remove(best_fit_student) #remove him from the available pool\n",
    "\n",
    "\n",
    "\n",
    "    # After getting the best student by score based on CGPA, Gender and School\n",
    "\n",
    "    # step 3: check gender balance (3:2 ratio)\n",
    "    males = [student for student in team if student['Gender'] == 'Male']\n",
    "    females = [student for student in team if student['Gender'] == 'Female']\n",
    "\n",
    "    # ensure 3 males, 2 females or vice versa\n",
    "    if len(males) > 3:\n",
    "        to_remove = random.choice(males)\n",
    "        team.remove(to_remove)\n",
    "        students.append(to_remove)\n",
    "        available_females = [s for s in students if s['Gender'] == 'Female']\n",
    "        if available_females:  # check if there are any females available\n",
    "            replacement = random.choice(available_females)\n",
    "            team.append(replacement)\n",
    "            students.remove(replacement)\n",
    "    elif len(females) > 3:\n",
    "        to_remove = random.choice(females)\n",
    "        team.remove(to_remove)\n",
    "        students.append(to_remove)\n",
    "        available_males = [s for s in students if s['Gender'] == 'Male']\n",
    "        if available_males:  # check if there are any males available\n",
    "            replacement = random.choice(available_males)\n",
    "            team.append(replacement)\n",
    "            students.remove(replacement)\n",
    "\n",
    "\n",
    "    # step 4: check school diversity (at least 3 schools)\n",
    "\n",
    "    schools = {student['School'] for student in team}\n",
    "    if len(schools) < 3:\n",
    "        # try swapping students to achieve school diversity\n",
    "        potential_swaps = [s for s in team if team.count(s['School']) > 1]\n",
    "\n",
    "        if potential_swaps:  # check if there are any eligible students for swapping\n",
    "            to_swap = random.choice(potential_swaps)\n",
    "            for student in students:\n",
    "                if student['School'] not in schools:\n",
    "                    team.remove(to_swap)\n",
    "                    students.append(to_swap)\n",
    "                    team.append(student)\n",
    "                    students.remove(student)\n",
    "                    schools.add(student['School'])\n",
    "                    if len(schools) >= 3:\n",
    "                        break\n",
    "\n",
    "    return team\n"
   ]
  },
  {
   "cell_type": "markdown",
   "metadata": {
    "id": "TtLr0-ayStCe"
   },
   "source": [
    "Create teams based on tutorial group"
   ]
  },
  {
   "cell_type": "code",
   "execution_count": 7,
   "metadata": {
    "id": "A1NhCNusSs7u"
   },
   "outputs": [],
   "source": [
    "# function to create teams for each tutorial group\n",
    "def create_teams(students):\n",
    "    tutorial_groups = {}\n",
    "    teams = []\n",
    "\n",
    "    # separate students by tutorial group\n",
    "    for student in students:\n",
    "        group = student['Tutorial Group']\n",
    "        if group not in tutorial_groups:\n",
    "            tutorial_groups[group] = []\n",
    "        tutorial_groups[group].append(student)\n",
    "\n",
    "    # form teams for each tutorial group\n",
    "    for group, group_students in tutorial_groups.items():\n",
    "        target_cgpa = calculate_average_cgpa(group_students)\n",
    "\n",
    "        # continue forming teams until fewer than 5 students are left\n",
    "        while len(group_students) >= 5:\n",
    "            team = form_team(group_students, target_cgpa)\n",
    "            teams.append((group, team))\n",
    "\n",
    "    return teams\n"
   ]
  },
  {
   "cell_type": "markdown",
   "metadata": {
    "id": "xJR3GH55Sys-"
   },
   "source": [
    "# Call function for Implementation of Algorithm"
   ]
  },
  {
   "cell_type": "code",
   "execution_count": 8,
   "metadata": {
    "id": "VmxOGAWlSyk2"
   },
   "outputs": [],
   "source": [
    "# generate teams\n",
    "teams = create_teams(students)"
   ]
  },
  {
   "cell_type": "markdown",
   "metadata": {
    "id": "Ubwh3E_JYwJe"
   },
   "source": [
    "# Restructing data output to prepare writing to new CSV file"
   ]
  },
  {
   "cell_type": "code",
   "execution_count": 9,
   "metadata": {
    "id": "_wTnKk_VYwD2"
   },
   "outputs": [],
   "source": [
    "# Function to print output dictionary in a readable and nice manner\n",
    "def print_nested_dict(students_sorted_dict):\n",
    "    for tutorial_group, tg_data in students_sorted_dict[\"tutorial_group\"].items(): # Loop over the sub-dictionary for tutorial groups\n",
    "        print(f\"Tutorial Group: {tutorial_group}\") # Use formatted string to print tutorial groups\n",
    "\n",
    "        for team_id, team_data in tg_data[\"teams\"].items(): # Loop over the sub-dictionary for teams\n",
    "            print(f\"  {team_id}:\") # Use formatted string to print teams\n",
    "\n",
    "            for student_id, details in team_data.items(): # Loop over the sub-dictionary for student id and details\n",
    "                print(f\"    Student ID: {student_id}\") # Use formatted string to print student id\n",
    "                for key, value in details.items(): # Loop over the sub-dictionary for student details\n",
    "                    print(f\"      {key}: {value}\") # Use formatted string to print student detials\n",
    "                print()  # Blank line between students for readability\n",
    "            # print(\"Diversity Score : \", score_calculation_check(teams,(1,1,1),4.15, True)) # Print diversity score for each team\n",
    "            print()  # Blank line between teams\n",
    "        print()  # Blank line between tutorial groups\n",
    "\n",
    "# Function to make the output dictionary\n",
    "def make_output_dict(teams):\n",
    "    students_sorted = {\"tutorial_group\": {}} # Initialize the main dictionary structure\n",
    "\n",
    "    for group, team in teams:\n",
    "        if group not in students_sorted[\"tutorial_group\"]: # Ensure no duplucates for groups\n",
    "            students_sorted[\"tutorial_group\"][group] = {\"teams\": {}} # Add groups to dictionary\n",
    "\n",
    "        # Generate a team ID (e.g., Team 1, Team 2, etc.)\n",
    "        team_id = f\"Team {len(students_sorted['tutorial_group'][group]['teams']) + 1}\" # Use formatted string to asign team numbers\n",
    "\n",
    "        # Add each student's details to the appropriate team\n",
    "        students_sorted[\"tutorial_group\"][group][\"teams\"][team_id] = {} # Initialise Dictionary for student's details\n",
    "        for student in team:\n",
    "            student_id = student['Student ID'] # Add student ID to dictionary\n",
    "            students_sorted[\"tutorial_group\"][group][\"teams\"][team_id][student_id] = { # Add Details to dictionary\n",
    "                \"School\": student['School'],\n",
    "                \"Name\": student['Name'],\n",
    "                \"Gender\": student['Gender'],\n",
    "                \"CGPA\": student['CGPA']\n",
    "            }\n",
    "    return students_sorted\n",
    "\n",
    "# Generate the nested dictionary output\n",
    "students_sorted_dict = make_output_dict(teams)"
   ]
  },
  {
   "cell_type": "markdown",
   "metadata": {
    "id": "3Isfr2h6ZIfW"
   },
   "source": [
    "# Write to CSV based on new dictionary structure"
   ]
  },
  {
   "cell_type": "code",
   "execution_count": 10,
   "metadata": {
    "id": "IBlRVtzLZIVO"
   },
   "outputs": [],
   "source": [
    "import csv\n",
    "\n",
    "#write nested dictionary data to a CSV file\n",
    "def write_to_csv(students_sorted_dict, filename=\"FCMA_Team2_RuriFloraNewman.csv\"): #change file name as per manual\n",
    "    # Define the CSV header\n",
    "    header = ['Tutorial Group', 'Assigned Team', 'Student ID', 'Name', 'School', 'Gender', 'CGPA']\n",
    "\n",
    "    #open the CSV file in write mode\n",
    "    with open(filename, mode='w', newline='') as csv_file:\n",
    "        writer = csv.writer(csv_file)\n",
    "\n",
    "        #write the header\n",
    "        writer.writerow(header)\n",
    "\n",
    "        #loop through sam's nested dictionary structure and write rows\n",
    "        for tutorial_group, tg_data in students_sorted_dict[\"tutorial_group\"].items(): #same structure as listed by sam\n",
    "            for team_id, team_data in tg_data[\"teams\"].items():\n",
    "                for student_id, details in team_data.items():\n",
    "                    #prepare each row with details for each student\n",
    "                    row = [\n",
    "                        tutorial_group,               #Tutorial Group\n",
    "                        team_id,                       #Assigned Team (as per algorithm)\n",
    "                        student_id,                   #Student ID\n",
    "                        details['Name'],              #Name\n",
    "                        details['School'],            #School\n",
    "                        details['Gender'],            #Gender\n",
    "                        float(details['CGPA']),       #CGPA as float\n",
    "                    ]\n",
    "\n",
    "                    #write 1 row for each student\n",
    "                    writer.writerow(row)\n",
    "\n"
   ]
  },
  {
   "cell_type": "markdown",
   "metadata": {
    "id": "oL-obu2JZFEO"
   },
   "source": [
    "# Display output, write to CSV"
   ]
  },
  {
   "cell_type": "code",
   "execution_count": 11,
   "metadata": {
    "colab": {
     "base_uri": "https://localhost:8080/"
    },
    "id": "_P3JuVOyZFLG",
    "outputId": "857bcee1-fede-4d46-ac39-173e144d2426"
   },
   "outputs": [],
   "source": [
    "# Display the resulting nested dictionary structure\n",
    "# print_nested_dict(students_sorted_dict)\n",
    "\n",
    "# Execute writing to CSV file\n",
    "write_to_csv(students_sorted_dict)"
   ]
  },
  {
   "cell_type": "markdown",
   "metadata": {
    "id": "fNKpucl9hq2o"
   },
   "source": [
    "# Data Visualisation of the cohort with random sorting"
   ]
  },
  {
   "cell_type": "code",
   "execution_count": 12,
   "metadata": {
    "id": "fmj9hnSqWhsQ"
   },
   "outputs": [],
   "source": [
    "# create random groupings\n",
    "\n",
    "# form teams where teams[n] = teams\n",
    "#                  teams[n][0] = tutorial group name\n",
    "#                  teams[n][1] = list of 5 students\n",
    "def random_group(students):\n",
    "    tutorial_groups = {}\n",
    "    teams = []\n",
    "\n",
    "    # separate students by tutorial group\n",
    "    # create tutorial_group dictionary\n",
    "    # where tutorial_groups.keys() = tutorial group string\n",
    "    #       tutorial_groups.values() = list of  students in tutorial group\n",
    "    for student in students:\n",
    "        group = student['Tutorial Group']\n",
    "        if group not in tutorial_groups:\n",
    "            tutorial_groups[group] = []\n",
    "        tutorial_groups[group].append(student)\n",
    "\n",
    "    # randomly create groups for each tutorial group\n",
    "    # iterate through each tutorial group\n",
    "    for i in tutorial_groups:\n",
    "        # create list of students in respective tutorial group\n",
    "        possible_students = [j for j in tutorial_groups[i]]\n",
    "        # name of tutorial group\n",
    "        tg = i\n",
    "        # check if there are students who have not been sorted\n",
    "        while len(possible_students) != 0:\n",
    "            team = []\n",
    "            # check that each team have 5 members\n",
    "            while len(team) != 5:\n",
    "                # randomly selects a student and add them to group\n",
    "                if len(possible_students) == 1:\n",
    "                    rng = 0\n",
    "                else:\n",
    "                    rng = random.randint(0, len(possible_students)-1)\n",
    "                team.append(possible_students[rng])\n",
    "                possible_students.remove(possible_students[rng])\n",
    "            teams.append((i, team))\n",
    "    return teams"
   ]
  },
  {
   "cell_type": "markdown",
   "metadata": {
    "id": "nZLjCBRFmCq9"
   },
   "source": [
    "# Execute score based sorting - Implemented algorithm"
   ]
  },
  {
   "cell_type": "code",
   "execution_count": 13,
   "metadata": {
    "id": "kyQ-n04GzKqT"
   },
   "outputs": [],
   "source": [
    "import math\n",
    "target_mean_selection = 4.15\n",
    "\n",
    "def score_based_group_selection(tut_group, members):\n",
    "    group_form = int(len(tut_group) / members)  # All groups to be formed\n",
    "\n",
    "    nums = list(range(0, len(tut_group)))\n",
    "    random.shuffle(nums)  # Random selection for the first members in each group\n",
    "    groups_created = []\n",
    "\n",
    "    for x in range(group_form):  # Create initial groups, e.g., 5 groups with first random member\n",
    "        groups_created.append([tut_group[nums[x]]])\n",
    "        del nums[x]\n",
    "\n",
    "    while len(nums) > 0:  # If all students are not distributed yet\n",
    "        num_select = nums[0]\n",
    "        cur_score = math.inf\n",
    "        cur_group = -1\n",
    "\n",
    "        for j in range(len(groups_created)):  # Loop through each group\n",
    "            # If the score is the lowest amongst all groups, add it to that group\n",
    "            if len(groups_created[j]) > members - 1:\n",
    "                continue\n",
    "\n",
    "            check_score = score_calculation(groups_created[j],tut_group[num_select], (1, 1, 1),target_mean_selection)  # Check if score is lower\n",
    "            if cur_score > check_score:\n",
    "                cur_score = check_score\n",
    "                cur_group = j\n",
    "\n",
    "        if cur_group == -1:\n",
    "            continue\n",
    "\n",
    "        groups_created[cur_group].append(tut_group[num_select])  # Add student to the best group\n",
    "        del nums[0]  # Remove that student from the available list\n",
    "\n",
    "    return groups_created\n",
    "\n",
    "\n",
    "\n",
    "def score_based_selection(students):\n",
    "    tutorial_groups = {}\n",
    "    teams = []\n",
    "\n",
    "    for student in students:\n",
    "        group = student['Tutorial Group']\n",
    "        if group not in tutorial_groups:\n",
    "            tutorial_groups[group] = []\n",
    "        tutorial_groups[group].append(student)\n",
    "\n",
    "\n",
    "    for i in tutorial_groups:\n",
    "        teams_formed = score_based_group_selection(tutorial_groups[i],5)\n",
    "        for j in teams_formed:\n",
    "             teams.append((i,j))\n",
    "\n",
    "\n",
    "\n",
    "    return teams\n",
    "\n",
    "\n"
   ]
  },
  {
   "cell_type": "markdown",
   "metadata": {
    "id": "83Czx6LRWrRA"
   },
   "source": [
    "Using matplot lib to visualize data after random sorting\n",
    "\n",
    "We decided to use matplotlib to visualise the effectiveness of our algorithm. We plotted three distribution graphs, the distribution of mean team cgpa, the distribution of gender ratio, and lastly the distribution of unique groups in each team. We compared our algorithm with random sorting to show us how much better our algorithm is at diversifying our teams. In every aspect, our algorithm showed a significant improvement over random sorting."
   ]
  },
  {
   "cell_type": "code",
   "execution_count": 14,
   "metadata": {
    "id": "e_7xGV45UyJv"
   },
   "outputs": [],
   "source": [
    "# return list of mean cgpa of each team for the whole course\n",
    "def list_group_cgpa(teams):\n",
    "    group_cgpa = []\n",
    "    # iterate through all the teams\n",
    "    for team in teams:\n",
    "        sum_cgpa = 0\n",
    "        # sum up all the cgpa of each student in each team to find the mean\n",
    "        for student in team[1]:\n",
    "          sum_cgpa += student['CGPA']\n",
    "        mean_cgpa = sum_cgpa / len(team[1])\n",
    "        # add each team mean cgpa to the list\n",
    "        group_cgpa.append(mean_cgpa)\n",
    "    return group_cgpa\n",
    "\n",
    "# sorts the group cgpa and plot it in order to compare with a reference\n",
    "def plot_comparison_cgpa(teams, ref,score_ref):\n",
    "    # creating the y axis\n",
    "    y_axis = list_group_cgpa(teams)\n",
    "    y_axis_ref = list_group_cgpa(ref)\n",
    "    y_axis_score_ref = list_group_cgpa(score_ref)\n",
    "    # finding the mean cgpa\n",
    "    mean = sum(y_axis_ref)/len(y_axis_ref)\n",
    "    mean_y_axis = [mean for i in range(len(y_axis))]\n",
    "\n",
    "    # plotting the graph\n",
    "    plt.plot(range(len(y_axis)), sorted(y_axis, key=float), label = 'algorithm sorted')\n",
    "    plt.plot(range(len(y_axis_ref)), sorted(y_axis_ref, key=float), label = 'random sorted')\n",
    "    plt.plot(range(len(y_axis_score_ref)), sorted(y_axis_score_ref, key=float), label = 'score sorted')\n",
    "    plt.plot(range(len(y_axis_ref)), mean_y_axis, label='mean')\n",
    "    plt.xlabel('Number of groups')\n",
    "    plt.ylabel('Mean CGPA of each group')\n",
    "    plt.legend()\n",
    "    plt.show()\n",
    "\n",
    "# sorts the group cgpa and plot it\n",
    "def plot_cgpa(teams):\n",
    "    # creating the y axis\n",
    "    y_axis = list_group_cgpa(teams)\n",
    "    # plotting the graph\n",
    "    plt.plot(range(len(y_axis)), sorted(y_axis, key=float), label = 'Random sorted')\n",
    "    plt.xlabel('Number of groups')\n",
    "    plt.ylabel('Mean CGPA of each group')\n",
    "    plt.legend()\n",
    "    plt.show()\n",
    "\n",
    "# returns list of males in group, where index position represents numbner of males\n",
    "# e.g. list[4] = 5 means 5 groups with 4 males\n",
    "def list_male_count(teams):\n",
    "    male_list = [0] * 6\n",
    "    for team in teams:\n",
    "        male_count = 0\n",
    "        for student in team[1]:\n",
    "            if student['Gender'] == 'Male':\n",
    "                male_count +=1\n",
    "        male_list[male_count] += 1\n",
    "    return male_list\n",
    "\n",
    "# plots graph of number of teams against number of male in order to compare\n",
    "# with a reference\n",
    "def plot_comparison_male_count(teams, ref,score_ref):\n",
    "    # creating the y axis\n",
    "    y_axis = list_male_count(teams)\n",
    "    y_axis_ref = list_male_count(ref)\n",
    "    y_axis_score_ref = list_male_count(score_ref)\n",
    "    # plotting the graph\n",
    "    plt.plot(range(len(y_axis)), y_axis, label='algorithm sorted')\n",
    "    plt.plot(range(len(y_axis_ref)), y_axis_ref, label = 'random sorted')\n",
    "    plt.plot(range(len(y_axis_score_ref)), y_axis_score_ref, label = 'score sorted')\n",
    "    plt.xlabel('Number of males in each group')\n",
    "    plt.ylabel('Number of groups')\n",
    "    plt.legend()\n",
    "    plt.show()\n",
    "\n",
    "# plots graph of number of teams against number of male\n",
    "def plot_male_count(teams):\n",
    "    # creating the y axis\n",
    "    y_axis = list_male_count(teams)\n",
    "    # plotting the graph\n",
    "    plt.plot(range(len(y_axis)), y_axis, label='Random sorted')\n",
    "    plt.xlabel('Number of males in each group')\n",
    "    plt.ylabel('Number of groups')\n",
    "    plt.legend()\n",
    "    plt.show()\n",
    "\n",
    "# returns a list of number of different schools in each group\n",
    "# where index position represents number of different schools\n",
    "# e.g. list[4] = 5 means 5 groups with 4 different schools in\n",
    "# their group\n",
    "def list_sch_count(teams):\n",
    "    sch_count = [0]*6\n",
    "    # iterate through all team in teams\n",
    "    for team in teams:\n",
    "        sch_dict = {}\n",
    "        # iterate through all student in team in order to find number of unique\n",
    "        # schools in each team\n",
    "        for student in team[1]:\n",
    "            if student['School'] not in sch_dict:\n",
    "                sch_dict[student['School']] = 1\n",
    "            else:\n",
    "                sch_dict[student['School']] += 1\n",
    "        # the len of sch_dict represents how many unique schools in each team\n",
    "        # add it to the sch_count\n",
    "        sch_count[len(sch_dict)] += 1\n",
    "    return sch_count\n",
    "\n",
    "# plot graph of number of teams against number of different schools in order\n",
    "# to plot it against a reference\n",
    "def plot_comparison_sch_count(teams, ref,score_ref):\n",
    "    # creating the y axis\n",
    "    y_axis = list_sch_count(teams)\n",
    "    y_axis_ref = list_sch_count(ref)\n",
    "    y_axis_score_ref = list_sch_count(score_ref)\n",
    "    # plotting the graph\n",
    "    plt.plot(range(len(y_axis)), y_axis, label='algorithm sorted')\n",
    "    plt.plot(range(len(y_axis_ref)), y_axis_ref, label='random sorted')\n",
    "    plt.plot(range(len(y_axis_score_ref)), y_axis_score_ref, label='score sorted')\n",
    "    plt.xlabel('Number of unique schools in each group')\n",
    "    plt.ylabel('Number of groups')\n",
    "    plt.legend()\n",
    "    plt.show()\n",
    "\n",
    "# plot graph of number of teams against number of different schools\n",
    "def plot_sch_count(teams):\n",
    "    # creating the y axis\n",
    "    y_axis = list_sch_count(teams)\n",
    "    # plotting the graph\n",
    "    plt.plot(range(len(y_axis)), y_axis, label='Random sorted')\n",
    "    plt.xlabel('Number of unique schools in each group')\n",
    "    plt.ylabel('Number of groups')\n",
    "    plt.legend()\n",
    "    plt.show()\n",
    "\n",
    "# find the standard deviation\n",
    "def standard_deviation(teams):\n",
    "    cgpa_list = list_group_cgpa(teams)\n",
    "    population_mean = sum(cgpa_list)/len(cgpa_list)\n",
    "    sums = 0\n",
    "    for i in cgpa_list:\n",
    "        sums += (i - population_mean) ** 2\n",
    "    return math.sqrt(sums/len(cgpa_list))"
   ]
  },
  {
   "cell_type": "markdown",
   "metadata": {
    "id": "FJyLsXb_X0tz"
   },
   "source": [
    "# Data Visualization comparing formed teams via<br> Random Sorted VS Implemented Algorithm"
   ]
  },
  {
   "cell_type": "code",
   "execution_count": 15,
   "metadata": {
    "colab": {
     "base_uri": "https://localhost:8080/",
     "height": 1000
    },
    "id": "a4zBf0ZBX0mk",
    "outputId": "fb2c4083-453a-4d07-d8de-0f1ddaef685c"
   },
   "outputs": [
    {
     "data": {
      "image/png": "[encoded data removed]",
      "text/plain": [
       "<Figure size 640x480 with 1 Axes>"
      ]
     },
     "metadata": {},
     "output_type": "display_data"
    },
    {
     "name": "stdout",
     "output_type": "stream",
     "text": [
      "Standard deviation for random sorted team: 0.05339815786980762\n",
      "Standard deviation for algorithm sorted team: 0.019025883133065257\n",
      "Standard deviation for score sorted team: 0.04567314963107124\n",
      "Random grouping, min: 3.942, max: 4.4159999999999995\n",
      "Algorithm grouping, min: 4.0275, max: 4.16\n",
      "Score grouping, min: 4.0275, max: 4.262\n"
     ]
    },
    {
     "data": {
      "image/png": "[encoded data removed]",
      "text/plain": [
       "<Figure size 640x480 with 1 Axes>"
      ]
     },
     "metadata": {},
     "output_type": "display_data"
    },
    {
     "name": "stdout",
     "output_type": "stream",
     "text": [
      "Random sorted, ideal gender ratio: 728\n",
      "Algorithm sorted, ideal gender ratio: 1114\n",
      "Score sorted, ideal gender ratio: 1152\n"
     ]
    },
    {
     "data": {
      "image/png": "[encoded data removed]",
      "text/plain": [
       "<Figure size 640x480 with 1 Axes>"
      ]
     },
     "metadata": {},
     "output_type": "display_data"
    },
    {
     "name": "stdout",
     "output_type": "stream",
     "text": [
      "Random sorted, ideal unique schools: 469\n",
      "Algorithm sorted, ideal unique schools: 951\n",
      "Score sorted, ideal unique schools: 1023\n"
     ]
    }
   ],
   "source": [
    "random_teams = random_group(students)\n",
    "score_selection_teams = score_based_selection(students)\n",
    "\n",
    "\n",
    "plot_comparison_cgpa(teams, random_teams,score_selection_teams)\n",
    "print(f\"Standard deviation for random sorted team: {standard_deviation(random_teams)}\")\n",
    "print(f\"Standard deviation for algorithm sorted team: {standard_deviation(teams)}\")\n",
    "print(f\"Standard deviation for score sorted team: {standard_deviation(score_selection_teams)}\")\n",
    "print(f\"Random grouping, min: {sorted(list_group_cgpa(random_teams), key=float)[0]}, max: {sorted(list_group_cgpa(random_teams), key=float)[-1]}\")\n",
    "print(f\"Algorithm grouping, min: {sorted(list_group_cgpa(teams), key=float)[0]}, max: {sorted(list_group_cgpa(teams), key=float)[-1]}\")\n",
    "print(f\"Score grouping, min: {sorted(list_group_cgpa(teams), key=float)[0]}, max: {sorted(list_group_cgpa(score_selection_teams), key=float)[-1]}\")\n",
    "plot_comparison_male_count(teams, random_teams,score_selection_teams)\n",
    "print(f\"Random sorted, ideal gender ratio: {list_male_count(random_teams)[2] + list_male_count(random_teams)[3]}\")\n",
    "print(f\"Algorithm sorted, ideal gender ratio: {list_male_count(teams)[2] + list_male_count(teams)[3]}\")\n",
    "print(f\"Score sorted, ideal gender ratio: {list_male_count(score_selection_teams)[2] + list_male_count(score_selection_teams)[3]}\")\n",
    "plot_comparison_sch_count(teams, random_teams,score_selection_teams)\n",
    "print(f\"Random sorted, ideal unique schools: {list_sch_count(random_teams)[-1]}\")\n",
    "print(f\"Algorithm sorted, ideal unique schools: {list_sch_count(teams)[-1]}\")\n",
    "print(f\"Score sorted, ideal unique schools: {list_sch_count(score_selection_teams)[-1]}\")"
   ]
  },
  {
   "cell_type": "markdown",
   "metadata": {
    "collapsed": true,
    "id": "45fUFU_fEEkF",
    "jupyter": {
     "outputs_hidden": true
    }
   },
   "source": [
    "   "
   ]
  },
  {
   "cell_type": "markdown",
   "metadata": {},
   "source": [
    "# AI Declaration"
   ]
  },
  {
   "cell_type": "markdown",
   "metadata": {
    "collapsed": true,
    "id": "45fUFU_fEEkF",
    "jupyter": {
     "outputs_hidden": true
    }
   },
   "source": [
    "![AI_Declaration](assets/AI_Declaration.png)"
   ]
  },
  {
   "cell_type": "code",
   "execution_count": null,
   "metadata": {},
   "outputs": [],
   "source": []
  }
 ],
 "metadata": {
  "colab": {
   "provenance": []
  },
  "kernelspec": {
   "display_name": "Python 3 (ipykernel)",
   "language": "python",
   "name": "python3"
  },
  "language_info": {
   "codemirror_mode": {
    "name": "ipython",
    "version": 3
   },
   "file_extension": ".py",
   "mimetype": "text/x-python",
   "name": "python",
   "nbconvert_exporter": "python",
   "pygments_lexer": "ipython3",
   "version": "3.8.5"
  }
 },
 "nbformat": 4,
 "nbformat_minor": 4
}
